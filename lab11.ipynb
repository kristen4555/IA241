{
 "cells": [
  {
   "cell_type": "markdown",
   "id": "f60a0cf6",
   "metadata": {},
   "source": [
    "# Lab 11. Dowload Census Data into Python"
   ]
  },
  {
   "cell_type": "markdown",
   "id": "33429d64",
   "metadata": {},
   "source": [
    "from urllib import request\n",
    "import json\n",
    "from pprint import pprint\n",
    "\n",
    "\n",
    "census_api_key = 'dc46099614179609c4259442ba2187ef5067e0fe' #get your key from https://api.census.gov/data/key_signup.html\n",
    "\n",
    "\n",
    "url_str = 'https://api.census.gov/data/2016/acs/acs5?get=B01001_001E,NAME&for=county:*&in=state:51&key='+census_api_key # create the url of your census data\n",
    "\n",
    "response = request.urlopen(url_str) # read the response into computer\n",
    "\n",
    "html_str = response.read().decode(\"utf-8\") # convert the response into string\n",
    "if (html_str):\n",
    "    json_data = json.loads(html_str) # convert the string into json\n",
    "    print (json_data[0])\n",
    "    for v1,name,state,county in json_data[1:]:\n",
    "        print (v1,name,state,county )"
   ]
  },
  {
   "cell_type": "markdown",
   "id": "d9f0eb22",
   "metadata": {},
   "source": [
    "## 4.1 county with most total population"
   ]
  },
  {
   "cell_type": "code",
   "execution_count": 21,
   "id": "5644bbe3",
   "metadata": {},
   "outputs": [
    {
     "name": "stdout",
     "output_type": "stream",
     "text": [
      "The Portsmouth city, Virginia has the most population 96071.\n"
     ]
    }
   ],
   "source": [
    "url_str = 'https://api.census.gov/data/2016/acs/acs5?get=B01001_001E,NAME&for=county:*&in=state:51&key='+census_api_key # create the url of your census data\n",
    "\n",
    "response = request.urlopen(url_str) # read the response into computer\n",
    "\n",
    "html_str = response.read().decode(\"utf-8\") # convert the response into string\n",
    "map_p = 0\n",
    "max_county=''\n",
    "if (html_str):\n",
    "    json_data = json.loads(html_str) # convert the string into json\n",
    "#    print (json_data[0])\n",
    "    for v1,name,state,county in json_data[1:]:\n",
    "        if map_p< int(v1):\n",
    "            max_p= int(v1)\n",
    "            max_county = name\n",
    "#        print (v1,name,state,county )\n",
    "        \n",
    "print(\"The {} has the most population {}.\".format(max_county,max_p))"
   ]
  },
  {
   "cell_type": "markdown",
   "id": "b05a9407",
   "metadata": {},
   "source": [
    "## 4.2 county with most male population"
   ]
  },
  {
   "cell_type": "markdown",
   "id": "3a5152d7",
   "metadata": {},
   "source": []
  },
  {
   "cell_type": "code",
   "execution_count": 23,
   "id": "b206dbcd",
   "metadata": {},
   "outputs": [
    {
     "name": "stdout",
     "output_type": "stream",
     "text": [
      "The Portsmouth city, Virginia has the most male population 46306.\n"
     ]
    }
   ],
   "source": [
    "url_str = 'https://api.census.gov/data/2016/acs/acs5?get=B01001_002E,NAME&for=county:*&in=state:51&key='+census_api_key # create the url of your census data\n",
    "\n",
    "response = request.urlopen(url_str) # read the response into computer\n",
    "\n",
    "html_str = response.read().decode(\"utf-8\") # convert the response into string\n",
    "map_p = 0\n",
    "max_county=''\n",
    "if (html_str):\n",
    "    json_data = json.loads(html_str) # convert the string into json\n",
    "#    print (json_data[0])\n",
    "    for v1,name,state,county in json_data[1:]:\n",
    "        if map_p< int(v1):\n",
    "            max_p= int(v1)\n",
    "            max_county = name\n",
    "#        print (v1,name,state,county )\n",
    "        \n",
    "print(\"The {} has the most male population {}.\".format(max_county,max_p))"
   ]
  },
  {
   "cell_type": "markdown",
   "id": "b45cffe5",
   "metadata": {},
   "source": [
    "## 4.3 county with the highest male/total population"
   ]
  },
  {
   "cell_type": "code",
   "execution_count": 34,
   "id": "24e9b744",
   "metadata": {},
   "outputs": [
    {
     "name": "stdout",
     "output_type": "stream",
     "text": [
      "The Portsmouth city, Virginia has the highest male/total ratio 0.4819976892090225.\n"
     ]
    }
   ],
   "source": [
    "url_str = 'https://api.census.gov/data/2016/acs/acs5?get=B01001_001E,B01001_002E,NAME&for=county:*&in=state:51&key='+census_api_key # create the url of your census data\n",
    "\n",
    "response = request.urlopen(url_str) # read the response into computer\n",
    "\n",
    "html_str = response.read().decode(\"utf-8\") # convert the response into string\n",
    "map_p = 0\n",
    "max_county=''\n",
    "if (html_str):\n",
    "    json_data = json.loads(html_str) # convert the string into json\n",
    "#    print (json_data[0])\n",
    "    for v1,v2,name,state,county in json_data[1:]:\n",
    "        if map_p< int(v2)/int(v1):\n",
    "            max_p= int(v2)/int(v1)\n",
    "            max_county = name\n",
    "#        print (v1,v2,name,state,county )\n",
    "        \n",
    "print(\"The {} has the highest male/total ratio {}.\".format(max_county,max_p))"
   ]
  },
  {
   "cell_type": "code",
   "execution_count": null,
   "id": "1e5be5da",
   "metadata": {},
   "outputs": [],
   "source": []
  }
 ],
 "metadata": {
  "kernelspec": {
   "display_name": "conda_python3",
   "language": "python",
   "name": "conda_python3"
  },
  "language_info": {
   "codemirror_mode": {
    "name": "ipython",
    "version": 3
   },
   "file_extension": ".py",
   "mimetype": "text/x-python",
   "name": "python",
   "nbconvert_exporter": "python",
   "pygments_lexer": "ipython3",
   "version": "3.6.13"
  }
 },
 "nbformat": 4,
 "nbformat_minor": 5
}
